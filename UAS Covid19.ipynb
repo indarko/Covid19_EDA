{
 "cells": [
  {
   "cell_type": "code",
   "execution_count": null,
   "metadata": {},
   "outputs": [],
   "source": [
    "import pandas as pd\n",
    "import numpy as np\n",
    "import matplotlib.pyplot as plt\n",
    "import plotly.express as px\n",
    "import seaborn as sb\n",
    "import plotly\n",
    "import calendar\n",
    "\n",
    "plotly.offline.init_notebook_mode (connected = True)"
   ]
  },
  {
   "cell_type": "code",
   "execution_count": null,
   "metadata": {},
   "outputs": [],
   "source": [
    "##Import data source ke DataFrame\n",
    "\n",
    "data = pd.read_csv('/users/macbook/Documents/Kuliah UKM/Open Source/UAS/COVID-19_Case_Surveillance_Public_Use_Data.csv', low_memory=False)"
   ]
  },
  {
   "cell_type": "code",
   "execution_count": null,
   "metadata": {},
   "outputs": [],
   "source": [
    "##Menampilkan atribut kolom data\n",
    "\n",
    "data.columns"
   ]
  },
  {
   "cell_type": "code",
   "execution_count": null,
   "metadata": {},
   "outputs": [],
   "source": [
    "##Menampilkan row & kolom data\n",
    "\n",
    "data.shape"
   ]
  },
  {
   "cell_type": "code",
   "execution_count": null,
   "metadata": {},
   "outputs": [],
   "source": [
    "def NaN_info(df):\n",
    "    global null_view\n",
    "    try:\n",
    "        null_view = data[[col for col in data.columns if data[col].isna().sum() > 0]].isna().sum().sort_values(ascending = True)\n",
    "        null_view = pd.DataFrame(null_view, columns=['NANs'])\n",
    "        null_view[['PERCENT']] = null_view.NANs.apply(lambda x: round((x/len(df))*100, 2))\n",
    "        null_view[['TYPE']] = data.dtypes\n",
    "    except:\n",
    "        return null_view\n",
    "    return null_view\n",
    "\n",
    "NaN_info(data)"
   ]
  },
  {
   "cell_type": "code",
   "execution_count": null,
   "metadata": {},
   "outputs": [],
   "source": [
    "##Menghapus row & kolom yang kosong\n",
    "\n",
    "data_feature = data.dropna()\n",
    "data_feature.shape"
   ]
  },
  {
   "cell_type": "code",
   "execution_count": null,
   "metadata": {},
   "outputs": [],
   "source": [
    "##Menampilkan isi kelompok paling atas dari DataFrame\n",
    "\n",
    "data_feature.head()"
   ]
  },
  {
   "cell_type": "code",
   "execution_count": null,
   "metadata": {},
   "outputs": [],
   "source": [
    "data_feature.describe().transpose()"
   ]
  },
  {
   "cell_type": "code",
   "execution_count": null,
   "metadata": {},
   "outputs": [],
   "source": [
    "##Menampilkan data kelompok berdasarkan kasus lab-confirmed & kasus probable\n",
    "\n",
    "\n",
    "plt.figure(figsize=(10,8))\n",
    "sb.countplot(y=\"age_group\",hue='current_status', data=data_feature)"
   ]
  },
  {
   "cell_type": "code",
   "execution_count": null,
   "metadata": {},
   "outputs": [],
   "source": [
    "##Menampilkan nilai tertinggi dan terendah dari kolom cdc_report_dt dalam bentuk date\n",
    "\n",
    "print(\"Start date : \", data_feature[\"cdc_report_dt\"].min())\n",
    "print(\"Finish date: \", data_feature[\"cdc_report_dt\"].max())"
   ]
  },
  {
   "cell_type": "code",
   "execution_count": null,
   "metadata": {},
   "outputs": [],
   "source": [
    "##Menghitung dan menampilkan jumlah masing2 kolom \n",
    "\n",
    "for col in ['current_status', 'sex', 'age_group', 'Race and ethnicity (combined)', 'hosp_yn', \n",
    "            'icu_yn', 'death_yn', 'medcond_yn']:\n",
    "    print(\"______________________\\n\")\n",
    "    print(col)\n",
    "    print(data_feature[col].value_counts())\n"
   ]
  },
  {
   "cell_type": "code",
   "execution_count": null,
   "metadata": {},
   "outputs": [],
   "source": [
    "##Mengetahui kelompok umur \n",
    "\n",
    "data_feature['age_group'].unique()"
   ]
  },
  {
   "cell_type": "code",
   "execution_count": null,
   "metadata": {},
   "outputs": [],
   "source": [
    "##Menampilkan grafik statistik pasien Covid-19 meninggal dan sembuh menggunakan pie chart dan tabel \n",
    "\n",
    "age = ['0 - 9 Years', '10 - 19 Years', '20 - 29 Years', '30 - 39 Years', '40 - 49 Years', \n",
    "       '50 - 59 Years', '60 - 69 Years', '70 - 79 Years', '80+ Years']\n",
    "\n",
    "def create_list(value):\n",
    "    range_age = []\n",
    "    for old in value:\n",
    "        sam = []\n",
    "        range_old = old\n",
    "        len_old_yes = len(data_feature[(data_feature['death_yn'] == 'Yes') & (data_feature['age_group'] == old)])\n",
    "        len_old_no = len(data_feature[(data_feature['death_yn'] == 'No') & (data_feature['age_group'] == old)])\n",
    "        sam.append(range_old)\n",
    "        sam.append(len_old_yes)\n",
    "        sam.append(len_old_no)\n",
    "        range_age.append(sam)\n",
    "    return range_age\n",
    "\n",
    "## Convert list ke DataFrame\n",
    "new_df = pd.DataFrame(create_list(age), columns=['Kelompok Umur', 'Kematian', 'Kesembuhan'])\n",
    "\n",
    "## Plotting pie chart Kematian\n",
    "plt.figure(figsize=(15, 15))\n",
    "plt.subplot(121)\n",
    "explode = (0.1, 0.1, 0.1, 0.1, 0.1, 0.1, 0.1, 0.1, 0.1) \n",
    "plt.pie(new_df['Kematian'], startangle = 90, explode=explode, autopct='%1.0f%%', shadow=True)\n",
    "plt.legend(labels=new_df['Kelompok Umur'])\n",
    "plt.title(\"Kematian pasien Covid-19 antara 2020/01/01 ~ 2020/11/19\")\n",
    "\n",
    "## Plotting pie chart Kesembuhan\n",
    "plt.subplot(122)\n",
    "plt.pie(new_df['Kesembuhan'], startangle = 90, explode=explode, autopct='%1.0f%%', shadow=True)\n",
    "plt.legend(labels=new_df['Kelompok Umur'])\n",
    "plt.title(\"Kesembuhan pasien Covid-19 antara 2020/01/01 ~ 2020/11/19\")\n",
    "plt.show()\n",
    "\n",
    "## Show Table\n",
    "fig, ax = plt.subplots()\n",
    "ax.table(cellText=new_df.values, colLabels=new_df.columns, loc=\"center\")\n",
    "ax.axis('off')\n",
    "fig.tight_layout()\n",
    "plt.show()\n"
   ]
  },
  {
   "cell_type": "code",
   "execution_count": null,
   "metadata": {},
   "outputs": [],
   "source": [
    "##Menampilkan grafik statistik pasien Covid-19 menggunakan 2D Density Plot yang menggambarkan \n",
    "##kelompok umur, bulan dan jumlah pasien\n",
    "\n",
    "data['pos_spec_dt']=pd.to_datetime(data['pos_spec_dt'])\n",
    "data['Month']=pd.DatetimeIndex(data['pos_spec_dt']).month\n",
    "df_plot = data.sample(frac=0.4).copy()\n",
    "fig2 = px.density_contour(df_plot, x=\"Month\", y=\"age_group\")\n",
    "fig2.update_traces(contours_coloring=\"fill\", contours_showlabels = True)\n",
    "fig2.show()"
   ]
  },
  {
   "cell_type": "code",
   "execution_count": null,
   "metadata": {},
   "outputs": [],
   "source": [
    "##Menampilkan grafik statistik pasien Covid-19 menggunakan Parallel Coordinate Plot\n",
    "\n",
    "fig3 = px.parallel_categories(df_plot, dimensions=['sex','age_group','death_yn'],\n",
    "                 color_continuous_scale=px.colors.sequential.Inferno,\n",
    "                labels={'sex':'Jenis Kelamin', 'age_group':'Kelompok Umur', 'death_yn':'Status Kematian'})\n",
    "fig3.show()"
   ]
  }
 ],
 "metadata": {
  "kernelspec": {
   "display_name": "Python 3",
   "language": "python",
   "name": "python3"
  },
  "language_info": {
   "codemirror_mode": {
    "name": "ipython",
    "version": 3
   },
   "file_extension": ".py",
   "mimetype": "text/x-python",
   "name": "python",
   "nbconvert_exporter": "python",
   "pygments_lexer": "ipython3",
   "version": "3.8.5"
  }
 },
 "nbformat": 4,
 "nbformat_minor": 4
}
